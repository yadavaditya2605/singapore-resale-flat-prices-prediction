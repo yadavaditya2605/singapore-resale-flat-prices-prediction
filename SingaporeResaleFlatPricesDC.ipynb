{
 "cells": [
  {
   "cell_type": "markdown",
   "id": "bf7688b6-e5d3-4284-b14a-6f1b38f3303f",
   "metadata": {},
   "source": [
    "# Singapore  Resale Flat Prices Predicting\n"
   ]
  },
  {
   "cell_type": "code",
   "execution_count": 126,
   "id": "97f1f506-4242-40f6-8175-362a9d54fb5b",
   "metadata": {},
   "outputs": [],
   "source": [
    "# import libraries\n",
    "import pandas as pd\n",
    "import numpy as np\n",
    "import matplotlib.pyplot as plt\n",
    "from sklearn.preprocessing import LabelEncoder\n",
    "import re\n",
    "from sklearn import metrics"
   ]
  },
  {
   "cell_type": "code",
   "execution_count": 127,
   "id": "c39cf27a-63fb-44f7-8b1a-effb81ec4a2f",
   "metadata": {},
   "outputs": [],
   "source": [
    "df1 = pd.read_csv(r\"C:\\Users\\YOGA\\OneDrive\\Documents\\singapore resale dataset\\ResaleFlatPricesBasedonApprovalDate19901999.csv\")\n",
    "df2 = pd.read_csv(r\"C:\\Users\\YOGA\\OneDrive\\Documents\\singapore resale dataset\\ResaleFlatPricesBasedonApprovalDate2000Feb2012.csv\")\n",
    "df3 = pd.read_csv(r\"C:\\Users\\YOGA\\OneDrive\\Documents\\singapore resale dataset\\ResaleFlatPricesBasedonRegistrationDateFromMar2012toDec2014.csv\")\n",
    "df4 = pd.read_csv(r\"C:\\Users\\YOGA\\OneDrive\\Documents\\singapore resale dataset\\ResaleFlatPricesBasedonRegistrationDateFromJan2015toDec2016.csv\")\n",
    "df5 = pd.read_csv(r\"C:\\Users\\YOGA\\OneDrive\\Documents\\singapore resale dataset\\ResaleflatpricesbasedonregistrationdatefromJan2017onwards.csv\")"
   ]
  },
  {
   "cell_type": "code",
   "execution_count": 128,
   "id": "5dd04e14-6adb-4e21-9a12-086cb0379bc2",
   "metadata": {},
   "outputs": [],
   "source": [
    "# merging all the datasets\n",
    "merged_df = pd.concat([df1, df2, df3, df4, df5], ignore_index=True)"
   ]
  },
  {
   "cell_type": "code",
   "execution_count": 129,
   "id": "d4cf4779-b151-4f14-be2b-a249bd15782a",
   "metadata": {},
   "outputs": [
    {
     "data": {
      "text/plain": [
       "(914681, 11)"
      ]
     },
     "execution_count": 129,
     "metadata": {},
     "output_type": "execute_result"
    }
   ],
   "source": [
    "merged_df.shape"
   ]
  },
  {
   "cell_type": "code",
   "execution_count": 130,
   "id": "ea8d9853",
   "metadata": {},
   "outputs": [
    {
     "data": {
      "text/html": [
       "<div>\n",
       "<style scoped>\n",
       "    .dataframe tbody tr th:only-of-type {\n",
       "        vertical-align: middle;\n",
       "    }\n",
       "\n",
       "    .dataframe tbody tr th {\n",
       "        vertical-align: top;\n",
       "    }\n",
       "\n",
       "    .dataframe thead th {\n",
       "        text-align: right;\n",
       "    }\n",
       "</style>\n",
       "<table border=\"1\" class=\"dataframe\">\n",
       "  <thead>\n",
       "    <tr style=\"text-align: right;\">\n",
       "      <th></th>\n",
       "      <th>month</th>\n",
       "      <th>town</th>\n",
       "      <th>flat_type</th>\n",
       "      <th>block</th>\n",
       "      <th>street_name</th>\n",
       "      <th>storey_range</th>\n",
       "      <th>floor_area_sqm</th>\n",
       "      <th>flat_model</th>\n",
       "      <th>lease_commence_date</th>\n",
       "      <th>resale_price</th>\n",
       "      <th>remaining_lease</th>\n",
       "    </tr>\n",
       "  </thead>\n",
       "  <tbody>\n",
       "    <tr>\n",
       "      <th>0</th>\n",
       "      <td>1990-01</td>\n",
       "      <td>ANG MO KIO</td>\n",
       "      <td>1 ROOM</td>\n",
       "      <td>309</td>\n",
       "      <td>ANG MO KIO AVE 1</td>\n",
       "      <td>10 TO 12</td>\n",
       "      <td>31.0</td>\n",
       "      <td>IMPROVED</td>\n",
       "      <td>1977</td>\n",
       "      <td>9000.0</td>\n",
       "      <td>NaN</td>\n",
       "    </tr>\n",
       "    <tr>\n",
       "      <th>1</th>\n",
       "      <td>1990-01</td>\n",
       "      <td>ANG MO KIO</td>\n",
       "      <td>1 ROOM</td>\n",
       "      <td>309</td>\n",
       "      <td>ANG MO KIO AVE 1</td>\n",
       "      <td>04 TO 06</td>\n",
       "      <td>31.0</td>\n",
       "      <td>IMPROVED</td>\n",
       "      <td>1977</td>\n",
       "      <td>6000.0</td>\n",
       "      <td>NaN</td>\n",
       "    </tr>\n",
       "    <tr>\n",
       "      <th>2</th>\n",
       "      <td>1990-01</td>\n",
       "      <td>ANG MO KIO</td>\n",
       "      <td>1 ROOM</td>\n",
       "      <td>309</td>\n",
       "      <td>ANG MO KIO AVE 1</td>\n",
       "      <td>10 TO 12</td>\n",
       "      <td>31.0</td>\n",
       "      <td>IMPROVED</td>\n",
       "      <td>1977</td>\n",
       "      <td>8000.0</td>\n",
       "      <td>NaN</td>\n",
       "    </tr>\n",
       "    <tr>\n",
       "      <th>3</th>\n",
       "      <td>1990-01</td>\n",
       "      <td>ANG MO KIO</td>\n",
       "      <td>1 ROOM</td>\n",
       "      <td>309</td>\n",
       "      <td>ANG MO KIO AVE 1</td>\n",
       "      <td>07 TO 09</td>\n",
       "      <td>31.0</td>\n",
       "      <td>IMPROVED</td>\n",
       "      <td>1977</td>\n",
       "      <td>6000.0</td>\n",
       "      <td>NaN</td>\n",
       "    </tr>\n",
       "    <tr>\n",
       "      <th>4</th>\n",
       "      <td>1990-01</td>\n",
       "      <td>ANG MO KIO</td>\n",
       "      <td>3 ROOM</td>\n",
       "      <td>216</td>\n",
       "      <td>ANG MO KIO AVE 1</td>\n",
       "      <td>04 TO 06</td>\n",
       "      <td>73.0</td>\n",
       "      <td>NEW GENERATION</td>\n",
       "      <td>1976</td>\n",
       "      <td>47200.0</td>\n",
       "      <td>NaN</td>\n",
       "    </tr>\n",
       "  </tbody>\n",
       "</table>\n",
       "</div>"
      ],
      "text/plain": [
       "     month        town flat_type block       street_name storey_range  \\\n",
       "0  1990-01  ANG MO KIO    1 ROOM   309  ANG MO KIO AVE 1     10 TO 12   \n",
       "1  1990-01  ANG MO KIO    1 ROOM   309  ANG MO KIO AVE 1     04 TO 06   \n",
       "2  1990-01  ANG MO KIO    1 ROOM   309  ANG MO KIO AVE 1     10 TO 12   \n",
       "3  1990-01  ANG MO KIO    1 ROOM   309  ANG MO KIO AVE 1     07 TO 09   \n",
       "4  1990-01  ANG MO KIO    3 ROOM   216  ANG MO KIO AVE 1     04 TO 06   \n",
       "\n",
       "   floor_area_sqm      flat_model  lease_commence_date  resale_price  \\\n",
       "0            31.0        IMPROVED                 1977        9000.0   \n",
       "1            31.0        IMPROVED                 1977        6000.0   \n",
       "2            31.0        IMPROVED                 1977        8000.0   \n",
       "3            31.0        IMPROVED                 1977        6000.0   \n",
       "4            73.0  NEW GENERATION                 1976       47200.0   \n",
       "\n",
       "  remaining_lease  \n",
       "0             NaN  \n",
       "1             NaN  \n",
       "2             NaN  \n",
       "3             NaN  \n",
       "4             NaN  "
      ]
     },
     "execution_count": 130,
     "metadata": {},
     "output_type": "execute_result"
    }
   ],
   "source": [
    "merged_df.head(5)"
   ]
  },
  {
   "cell_type": "code",
   "execution_count": 131,
   "id": "450a130a-2f22-4f6a-adcf-2173d20517a2",
   "metadata": {
    "scrolled": true
   },
   "outputs": [
    {
     "name": "stdout",
     "output_type": "stream",
     "text": [
      "<class 'pandas.core.frame.DataFrame'>\n",
      "RangeIndex: 914681 entries, 0 to 914680\n",
      "Data columns (total 11 columns):\n",
      " #   Column               Non-Null Count   Dtype  \n",
      "---  ------               --------------   -----  \n",
      " 0   month                914681 non-null  object \n",
      " 1   town                 914681 non-null  object \n",
      " 2   flat_type            914681 non-null  object \n",
      " 3   block                914681 non-null  object \n",
      " 4   street_name          914681 non-null  object \n",
      " 5   storey_range         914681 non-null  object \n",
      " 6   floor_area_sqm       914681 non-null  float64\n",
      " 7   flat_model           914681 non-null  object \n",
      " 8   lease_commence_date  914681 non-null  int64  \n",
      " 9   resale_price         914681 non-null  float64\n",
      " 10  remaining_lease      205631 non-null  object \n",
      "dtypes: float64(2), int64(1), object(8)\n",
      "memory usage: 76.8+ MB\n"
     ]
    }
   ],
   "source": [
    "merged_df.info()"
   ]
  },
  {
   "cell_type": "code",
   "execution_count": 132,
   "id": "c8a3a746-1ead-428c-a769-3824d914010d",
   "metadata": {},
   "outputs": [
    {
     "data": {
      "text/plain": [
       "month                       0\n",
       "town                        0\n",
       "flat_type                   0\n",
       "block                       0\n",
       "street_name                 0\n",
       "storey_range                0\n",
       "floor_area_sqm              0\n",
       "flat_model                  0\n",
       "lease_commence_date         0\n",
       "resale_price                0\n",
       "remaining_lease        709050\n",
       "dtype: int64"
      ]
     },
     "execution_count": 132,
     "metadata": {},
     "output_type": "execute_result"
    }
   ],
   "source": [
    "merged_df.isnull().sum()"
   ]
  },
  {
   "cell_type": "code",
   "execution_count": 133,
   "id": "cf57c3d0-e07a-412e-8b4d-25b9e19c63d6",
   "metadata": {},
   "outputs": [],
   "source": [
    "merged_df['remaining_lease'].fillna('0',inplace = True)"
   ]
  },
  {
   "cell_type": "code",
   "execution_count": 134,
   "id": "9ffc8259-fbed-41bc-b402-1a2f2ccdc0a4",
   "metadata": {},
   "outputs": [
    {
     "data": {
      "text/plain": [
       "month                  0\n",
       "town                   0\n",
       "flat_type              0\n",
       "block                  0\n",
       "street_name            0\n",
       "storey_range           0\n",
       "floor_area_sqm         0\n",
       "flat_model             0\n",
       "lease_commence_date    0\n",
       "resale_price           0\n",
       "remaining_lease        0\n",
       "dtype: int64"
      ]
     },
     "execution_count": 134,
     "metadata": {},
     "output_type": "execute_result"
    }
   ],
   "source": [
    "merged_df.isnull().sum()"
   ]
  },
  {
   "cell_type": "code",
   "execution_count": 135,
   "id": "31de0f28-3600-4456-b6f4-737ada04e704",
   "metadata": {},
   "outputs": [
    {
     "data": {
      "text/plain": [
       "(914681, 11)"
      ]
     },
     "execution_count": 135,
     "metadata": {},
     "output_type": "execute_result"
    }
   ],
   "source": [
    "merged_df.shape"
   ]
  },
  {
   "cell_type": "code",
   "execution_count": 136,
   "id": "57e14f73-a7bf-4524-93bb-45af7f45d35f",
   "metadata": {},
   "outputs": [
    {
     "data": {
      "text/plain": [
       "Index(['month', 'town', 'flat_type', 'block', 'street_name', 'storey_range',\n",
       "       'floor_area_sqm', 'flat_model', 'lease_commence_date', 'resale_price',\n",
       "       'remaining_lease'],\n",
       "      dtype='object')"
      ]
     },
     "execution_count": 136,
     "metadata": {},
     "output_type": "execute_result"
    }
   ],
   "source": [
    "merged_df.columns"
   ]
  },
  {
   "cell_type": "code",
   "execution_count": 137,
   "id": "07377477-5931-4f00-9cf2-0b2cf67205a1",
   "metadata": {},
   "outputs": [
    {
     "data": {
      "text/plain": [
       "array(['1 ROOM', '3 ROOM', '4 ROOM', '5 ROOM', '2 ROOM', 'EXECUTIVE',\n",
       "       'MULTI GENERATION', 'MULTI-GENERATION'], dtype=object)"
      ]
     },
     "execution_count": 137,
     "metadata": {},
     "output_type": "execute_result"
    }
   ],
   "source": [
    "merged_df['flat_type'].unique()"
   ]
  },
  {
   "cell_type": "code",
   "execution_count": 138,
   "id": "818ee057-2006-4bbe-89a8-9b625aea9958",
   "metadata": {},
   "outputs": [
    {
     "data": {
      "text/plain": [
       "array(['1 ROOM', '3 ROOM', '4 ROOM', '5 ROOM', '2 ROOM', 'EXECUTIVE',\n",
       "       'MULTI GENERATION'], dtype=object)"
      ]
     },
     "execution_count": 138,
     "metadata": {},
     "output_type": "execute_result"
    }
   ],
   "source": [
    "#replacing MULTI-GENERATION with MULTI GENERATION\n",
    "merged_df['flat_type'] = merged_df['flat_type'].replace('MULTI-GENERATION','MULTI GENERATION')\n",
    "merged_df['flat_type'].unique()"
   ]
  },
  {
   "cell_type": "code",
   "execution_count": 139,
   "id": "8f479ce1-8c21-4464-83ac-95860a113cd6",
   "metadata": {},
   "outputs": [
    {
     "data": {
      "text/plain": [
       "array([ 31. ,  73. ,  67. ,  82. ,  74. ,  88. ,  89. ,  83. ,  68. ,\n",
       "        75. ,  81. ,  91. ,  92. ,  97. ,  90. ,  98. ,  99. , 100. ,\n",
       "        93. , 103. , 119. , 120. , 118. , 121. , 135. , 117. ,  45. ,\n",
       "        65. ,  59. ,  70. ,  76. ,  84. , 104. , 105. , 125. , 132. ,\n",
       "       139. , 123. , 143. , 151. ,  69. , 106. , 107. , 116. , 149. ,\n",
       "       141. , 146. , 148. , 145. , 154. , 150. ,  29. ,  51. ,  61. ,\n",
       "        63. ,  64. ,  72. ,  58. ,  66. ,  60. ,  53. ,  54. ,  56. ,\n",
       "        77. , 133. , 131. , 115. ,  43. ,  38. ,  41. ,  85. , 111. ,\n",
       "       101. , 112. , 137. , 127. , 147. , 163. ,  50. ,  40. ,  60.3,\n",
       "        62. ,  55. ,  57. ,  52. ,  63.1, 102. ,  83.1, 126. , 140. ,\n",
       "       142. ,  71. , 108. , 144. ,  96. , 114. , 157. , 152. , 155. ,\n",
       "        87. , 109. , 110. ,  94. , 134. , 122. , 128. ,  78. ,  46. ,\n",
       "        42. ,  49. ,  47. ,  86. , 156. ,  79. ,  80. , 124. ,  28. ,\n",
       "       113. ,  95. , 160. , 136. ,  48. , 138. , 161. ,  39. , 130. ,\n",
       "       159. , 206. ,  68.2,  64.9, 129. , 165. , 153. , 166. , 210. ,\n",
       "        59.2,  73.1,  48.1, 174. ,  74.9, 164. , 158. ,  37. , 198. ,\n",
       "       173. , 199. , 261. , 179. ,  69.7, 246. , 171. , 181. ,  44. ,\n",
       "       169. , 189. ,  67.2, 222. ,  64.8, 250. ,  74.8, 215. , 237. ,\n",
       "        59.1, 185. , 297. , 177. , 243. ,  69.9, 162. , 170. , 190. ,\n",
       "       175. , 187. , 241. , 186. ,  56.4, 176. ,  75.9, 184. , 178. ,\n",
       "        69.2, 172. , 168. , 167. , 152.4,  64.7, 195. , 188. , 225. ,\n",
       "       307. , 182. , 131.1, 192. , 183. , 280. , 180. , 221. , 193. ,\n",
       "       207. ,  89.1,  88.1, 259. , 266. ,  87.1,  34. ,  35. , 239. ,\n",
       "       249. ,  68.8, 100.2])"
      ]
     },
     "execution_count": 139,
     "metadata": {},
     "output_type": "execute_result"
    }
   ],
   "source": [
    "merged_df['floor_area_sqm'].unique()"
   ]
  },
  {
   "cell_type": "code",
   "execution_count": 140,
   "id": "bc1373fb-3cbd-42b6-941d-cd3aa4ee0a48",
   "metadata": {},
   "outputs": [
    {
     "data": {
      "text/plain": [
       "array(['309', '216', '211', ..., '323D', '606B', '462D'], dtype=object)"
      ]
     },
     "execution_count": 140,
     "metadata": {},
     "output_type": "execute_result"
    }
   ],
   "source": [
    "merged_df['block'].unique()"
   ]
  },
  {
   "cell_type": "code",
   "execution_count": 141,
   "id": "c80ffd14-e02b-430f-ad4a-addfd5cac9f3",
   "metadata": {},
   "outputs": [],
   "source": [
    "# Converting the block column to int\n",
    "merged_df['block'] = merged_df['block'].astype(str)\n",
    "merged_df['block'] = merged_df['block'].apply(lambda x: ''.join(char for char in x if char in '0123456789'))"
   ]
  },
  {
   "cell_type": "code",
   "execution_count": 142,
   "id": "7dadf80e-e6c4-464d-b71e-acd760e53031",
   "metadata": {},
   "outputs": [
    {
     "data": {
      "text/plain": [
       "array(['IMPROVED', 'NEW GENERATION', 'MODEL A', 'STANDARD', 'SIMPLIFIED',\n",
       "       'MODEL A-MAISONETTE', 'APARTMENT', 'MAISONETTE', 'TERRACE',\n",
       "       '2-ROOM', 'IMPROVED-MAISONETTE', 'MULTI GENERATION',\n",
       "       'PREMIUM APARTMENT', 'Improved', 'New Generation', 'Model A',\n",
       "       'Standard', 'Apartment', 'Simplified', 'Model A-Maisonette',\n",
       "       'Maisonette', 'Multi Generation', 'Adjoined flat',\n",
       "       'Premium Apartment', 'Terrace', 'Improved-Maisonette',\n",
       "       'Premium Maisonette', '2-room', 'Model A2', 'DBSS', 'Type S1',\n",
       "       'Type S2', 'Premium Apartment Loft', '3Gen'], dtype=object)"
      ]
     },
     "execution_count": 142,
     "metadata": {},
     "output_type": "execute_result"
    }
   ],
   "source": [
    "merged_df['flat_model'].unique()"
   ]
  },
  {
   "cell_type": "code",
   "execution_count": 143,
   "id": "d1e511c4-7dbf-41bf-9266-694473a5a2e9",
   "metadata": {},
   "outputs": [
    {
     "data": {
      "text/plain": [
       "array(['ANG MO KIO', 'BEDOK', 'BISHAN', 'BUKIT BATOK', 'BUKIT MERAH',\n",
       "       'BUKIT TIMAH', 'CENTRAL AREA', 'CHOA CHU KANG', 'CLEMENTI',\n",
       "       'GEYLANG', 'HOUGANG', 'JURONG EAST', 'JURONG WEST',\n",
       "       'KALLANG/WHAMPOA', 'MARINE PARADE', 'QUEENSTOWN', 'SENGKANG',\n",
       "       'SERANGOON', 'TAMPINES', 'TOA PAYOH', 'WOODLANDS', 'YISHUN',\n",
       "       'LIM CHU KANG', 'SEMBAWANG', 'BUKIT PANJANG', 'PASIR RIS',\n",
       "       'PUNGGOL'], dtype=object)"
      ]
     },
     "execution_count": 143,
     "metadata": {},
     "output_type": "execute_result"
    }
   ],
   "source": [
    "merged_df['town'].unique()"
   ]
  },
  {
   "cell_type": "code",
   "execution_count": 144,
   "id": "9e1c7ae7-dc47-4791-97dd-882162dfcb2b",
   "metadata": {},
   "outputs": [
    {
     "data": {
      "text/plain": [
       "array(['1990-01', '1990-02', '1990-03', '1990-04', '1990-05', '1990-06',\n",
       "       '1990-07', '1990-08', '1990-09', '1990-10', '1990-11', '1990-12',\n",
       "       '1991-01', '1991-02', '1991-03', '1991-04', '1991-05', '1991-06',\n",
       "       '1991-07', '1991-08', '1991-09', '1991-10', '1991-11', '1991-12',\n",
       "       '1992-01', '1992-02', '1992-03', '1992-04', '1992-05', '1992-06',\n",
       "       '1992-07', '1992-08', '1992-09', '1992-10', '1992-11', '1992-12',\n",
       "       '1993-01', '1993-02', '1993-03', '1993-04', '1993-05', '1993-06',\n",
       "       '1993-07', '1993-08', '1993-09', '1993-10', '1993-11', '1993-12',\n",
       "       '1994-01', '1994-02', '1994-03', '1994-04', '1994-05', '1994-06',\n",
       "       '1994-07', '1994-08', '1994-09', '1994-10', '1994-11', '1994-12',\n",
       "       '1995-01', '1995-02', '1995-03', '1995-04', '1995-05', '1995-06',\n",
       "       '1995-07', '1995-08', '1995-09', '1995-10', '1995-11', '1995-12',\n",
       "       '1996-01', '1996-02', '1996-03', '1996-04', '1996-05', '1996-06',\n",
       "       '1996-07', '1996-08', '1996-09', '1996-10', '1996-11', '1996-12',\n",
       "       '1997-01', '1997-02', '1997-03', '1997-04', '1997-05', '1997-06',\n",
       "       '1997-07', '1997-08', '1997-09', '1997-10', '1997-11', '1997-12',\n",
       "       '1998-01', '1998-02', '1998-03', '1998-04', '1998-05', '1998-06',\n",
       "       '1998-07', '1998-08', '1998-09', '1998-10', '1998-11', '1998-12',\n",
       "       '1999-01', '1999-02', '1999-03', '1999-04', '1999-05', '1999-06',\n",
       "       '1999-07', '1999-08', '1999-09', '1999-10', '1999-11', '1999-12',\n",
       "       '2000-01', '2000-02', '2000-03', '2000-04', '2000-05', '2000-06',\n",
       "       '2000-07', '2000-08', '2000-09', '2000-10', '2000-11', '2000-12',\n",
       "       '2001-01', '2001-02', '2001-03', '2001-04', '2001-05', '2001-06',\n",
       "       '2001-07', '2001-08', '2001-09', '2001-10', '2001-11', '2001-12',\n",
       "       '2002-01', '2002-02', '2002-03', '2002-04', '2002-05', '2002-06',\n",
       "       '2002-07', '2002-08', '2002-09', '2002-10', '2002-11', '2002-12',\n",
       "       '2003-01', '2003-02', '2003-03', '2003-04', '2003-05', '2003-06',\n",
       "       '2003-07', '2003-08', '2003-09', '2003-10', '2003-11', '2003-12',\n",
       "       '2004-01', '2004-02', '2004-03', '2004-04', '2004-05', '2004-06',\n",
       "       '2004-07', '2004-08', '2004-09', '2004-10', '2004-11', '2004-12',\n",
       "       '2005-01', '2005-02', '2005-03', '2005-04', '2005-05', '2005-06',\n",
       "       '2005-07', '2005-08', '2005-09', '2005-10', '2005-11', '2005-12',\n",
       "       '2006-01', '2006-02', '2006-03', '2006-04', '2006-05', '2006-06',\n",
       "       '2006-07', '2006-08', '2006-09', '2006-10', '2006-11', '2006-12',\n",
       "       '2007-01', '2007-02', '2007-03', '2007-04', '2007-05', '2007-06',\n",
       "       '2007-07', '2007-08', '2007-09', '2007-10', '2007-11', '2007-12',\n",
       "       '2008-01', '2008-02', '2008-03', '2008-04', '2008-05', '2008-06',\n",
       "       '2008-07', '2008-08', '2008-09', '2008-10', '2008-11', '2008-12',\n",
       "       '2009-01', '2009-02', '2009-03', '2009-04', '2009-05', '2009-06',\n",
       "       '2009-07', '2009-08', '2009-09', '2009-10', '2009-11', '2009-12',\n",
       "       '2010-01', '2010-02', '2010-03', '2010-04', '2010-05', '2010-06',\n",
       "       '2010-07', '2010-08', '2010-09', '2010-10', '2010-11', '2010-12',\n",
       "       '2011-01', '2011-02', '2011-03', '2011-04', '2011-05', '2011-06',\n",
       "       '2011-07', '2011-08', '2011-09', '2011-10', '2011-11', '2011-12',\n",
       "       '2012-01', '2012-02', '2012-03', '2012-04', '2012-05', '2012-06',\n",
       "       '2012-07', '2012-08', '2012-09', '2012-10', '2012-11', '2012-12',\n",
       "       '2013-01', '2013-02', '2013-03', '2013-04', '2013-05', '2013-06',\n",
       "       '2013-07', '2013-08', '2013-09', '2013-10', '2013-11', '2013-12',\n",
       "       '2014-01', '2014-02', '2014-03', '2014-04', '2014-05', '2014-06',\n",
       "       '2014-07', '2014-08', '2014-09', '2014-10', '2014-11', '2014-12',\n",
       "       '2015-01', '2015-02', '2015-03', '2015-04', '2015-05', '2015-06',\n",
       "       '2015-07', '2015-08', '2015-09', '2015-10', '2015-11', '2015-12',\n",
       "       '2016-01', '2016-02', '2016-03', '2016-04', '2016-05', '2016-06',\n",
       "       '2016-07', '2016-08', '2016-09', '2016-10', '2016-11', '2016-12',\n",
       "       '2017-01', '2017-02', '2017-03', '2017-04', '2017-05', '2017-06',\n",
       "       '2017-07', '2017-08', '2017-09', '2017-10', '2017-11', '2017-12',\n",
       "       '2018-01', '2018-02', '2018-03', '2018-04', '2018-05', '2018-06',\n",
       "       '2018-07', '2018-08', '2018-09', '2018-10', '2018-11', '2018-12',\n",
       "       '2019-01', '2019-02', '2019-03', '2019-04', '2019-05', '2019-06',\n",
       "       '2019-07', '2019-08', '2019-09', '2019-10', '2019-11', '2019-12',\n",
       "       '2020-01', '2020-02', '2020-03', '2020-04', '2020-05', '2020-06',\n",
       "       '2020-07', '2020-08', '2020-09', '2020-10', '2020-11', '2020-12',\n",
       "       '2021-01', '2021-02', '2021-03', '2021-04', '2021-05', '2021-06',\n",
       "       '2021-11', '2021-07', '2021-08', '2021-09', '2021-10', '2021-12',\n",
       "       '2022-01', '2022-02', '2022-03', '2022-04', '2022-05', '2022-06',\n",
       "       '2022-07', '2022-08', '2022-09', '2022-10', '2022-11', '2022-12',\n",
       "       '2023-01', '2023-02', '2023-03', '2023-04', '2023-05', '2023-06',\n",
       "       '2023-07', '2023-08', '2023-09', '2023-10', '2023-11', '2023-12'],\n",
       "      dtype=object)"
      ]
     },
     "execution_count": 144,
     "metadata": {},
     "output_type": "execute_result"
    }
   ],
   "source": [
    "merged_df['month'].unique()"
   ]
  },
  {
   "cell_type": "code",
   "execution_count": 145,
   "id": "4c4be68c-7b31-40a7-b286-518d746956fd",
   "metadata": {},
   "outputs": [],
   "source": [
    "#splitting month column to year and month\n",
    "merged_df['reg_year'] = merged_df['month'].apply(lambda x: int(x.split('-')[0]))\n",
    "merged_df['reg_month'] = merged_df['month'].apply(lambda x: int(x.split('-')[1]))"
   ]
  },
  {
   "cell_type": "code",
   "execution_count": 146,
   "id": "730fc69d-3f77-4207-acd3-72093c4f4479",
   "metadata": {},
   "outputs": [
    {
     "data": {
      "text/plain": [
       "array([1977, 1976, 1978, 1979, 1984, 1980, 1985, 1981, 1982, 1986, 1972,\n",
       "       1983, 1973, 1969, 1975, 1971, 1974, 1967, 1970, 1968, 1988, 1987,\n",
       "       1989, 1990, 1992, 1993, 1994, 1991, 1995, 1996, 1997, 1998, 1999,\n",
       "       2000, 2001, 1966, 2002, 2006, 2003, 2005, 2004, 2008, 2007, 2009,\n",
       "       2010, 2012, 2011, 2013, 2014, 2015, 2016, 2017, 2018, 2019, 2022,\n",
       "       2020], dtype=int64)"
      ]
     },
     "execution_count": 146,
     "metadata": {},
     "output_type": "execute_result"
    }
   ],
   "source": [
    "merged_df['lease_commence_date'].unique()"
   ]
  },
  {
   "cell_type": "code",
   "execution_count": 147,
   "id": "9f87f4e8-1c4d-4340-a124-c95974062103",
   "metadata": {},
   "outputs": [
    {
     "data": {
      "text/plain": [
       "array(['ANG MO KIO AVE 1', 'ANG MO KIO AVE 3', 'ANG MO KIO AVE 4',\n",
       "       'ANG MO KIO AVE 10', 'ANG MO KIO AVE 5', 'ANG MO KIO AVE 8',\n",
       "       'ANG MO KIO AVE 6', 'ANG MO KIO AVE 9', 'ANG MO KIO AVE 2',\n",
       "       'BEDOK RESERVOIR RD', 'BEDOK NTH ST 3', 'BEDOK STH RD',\n",
       "       'NEW UPP CHANGI RD', 'BEDOK NTH RD', 'BEDOK STH AVE 1',\n",
       "       'CHAI CHEE RD', 'CHAI CHEE DR', 'BEDOK NTH AVE 4',\n",
       "       'BEDOK STH AVE 3', 'BEDOK STH AVE 2', 'BEDOK NTH ST 2',\n",
       "       'BEDOK NTH ST 4', 'BEDOK NTH AVE 2', 'BEDOK NTH AVE 3',\n",
       "       'BEDOK NTH AVE 1', 'BEDOK NTH ST 1', 'CHAI CHEE ST', 'SIN MING RD',\n",
       "       'SHUNFU RD', 'BT BATOK ST 11', 'BT BATOK WEST AVE 8',\n",
       "       'BT BATOK WEST AVE 6', 'BT BATOK ST 21', 'BT BATOK EAST AVE 5',\n",
       "       'BT BATOK EAST AVE 4', 'HILLVIEW AVE', 'BT BATOK CTRL',\n",
       "       'BT BATOK ST 31', 'BT BATOK EAST AVE 3', 'TAMAN HO SWEE',\n",
       "       'TELOK BLANGAH CRES', 'BEO CRES', 'TELOK BLANGAH DR', 'DEPOT RD',\n",
       "       'TELOK BLANGAH RISE', 'JLN BT MERAH', 'HENDERSON RD', 'INDUS RD',\n",
       "       'BT MERAH VIEW', 'HENDERSON CRES', 'BT PURMEI RD',\n",
       "       'TELOK BLANGAH HTS', 'EVERTON PK', 'KG BAHRU HILL', 'REDHILL CL',\n",
       "       'HOY FATT RD', 'HAVELOCK RD', 'JLN KLINIK', 'JLN RUMAH TINGGI',\n",
       "       'JLN BT HO SWEE', 'KIM CHENG ST', 'MOH GUAN TER',\n",
       "       'TELOK BLANGAH WAY', 'KIM TIAN RD', 'KIM TIAN PL', 'EMPRESS RD',\n",
       "       \"QUEEN'S RD\", 'FARRER RD', 'JLN KUKOH', 'OUTRAM PK', 'SHORT ST',\n",
       "       'SELEGIE RD', 'UPP CROSS ST', 'WATERLOO ST', 'QUEEN ST',\n",
       "       'BUFFALO RD', 'ROWELL RD', 'ROCHOR RD', 'BAIN ST', 'SMITH ST',\n",
       "       'VEERASAMY RD', 'TECK WHYE AVE', 'TECK WHYE LANE',\n",
       "       'CLEMENTI AVE 3', 'WEST COAST DR', 'CLEMENTI AVE 2',\n",
       "       'CLEMENTI AVE 5', 'CLEMENTI AVE 4', 'CLEMENTI AVE 1',\n",
       "       'WEST COAST RD', 'CLEMENTI WEST ST 1', 'CLEMENTI WEST ST 2',\n",
       "       'CLEMENTI ST 13', \"C'WEALTH AVE WEST\", 'CLEMENTI AVE 6',\n",
       "       'CLEMENTI ST 14', 'CIRCUIT RD', 'MACPHERSON LANE',\n",
       "       'JLN PASAR BARU', 'GEYLANG SERAI', 'EUNOS CRES', 'SIMS DR',\n",
       "       'ALJUNIED CRES', 'GEYLANG EAST AVE 1', 'DAKOTA CRES', 'PINE CL',\n",
       "       'HAIG RD', 'BALAM RD', 'JLN DUA', 'GEYLANG EAST CTRL',\n",
       "       'EUNOS RD 5', 'HOUGANG AVE 3', 'HOUGANG AVE 5', 'HOUGANG AVE 1',\n",
       "       'HOUGANG ST 22', 'HOUGANG AVE 10', 'LOR AH SOO', 'HOUGANG ST 11',\n",
       "       'HOUGANG AVE 7', 'HOUGANG ST 21', 'TEBAN GDNS RD',\n",
       "       'JURONG EAST AVE 1', 'JURONG EAST ST 32', 'JURONG EAST ST 13',\n",
       "       'JURONG EAST ST 21', 'JURONG EAST ST 24', 'JURONG EAST ST 31',\n",
       "       'PANDAN GDNS', 'YUNG KUANG RD', 'HO CHING RD', 'HU CHING RD',\n",
       "       'BOON LAY DR', 'BOON LAY AVE', 'BOON LAY PL', 'JURONG WEST ST 52',\n",
       "       'JURONG WEST ST 41', 'JURONG WEST AVE 1', 'JURONG WEST ST 42',\n",
       "       'JLN BATU', \"ST. GEORGE'S RD\", 'NTH BRIDGE RD', 'FRENCH RD',\n",
       "       'BEACH RD', 'WHAMPOA DR', 'UPP BOON KENG RD', 'BENDEMEER RD',\n",
       "       'WHAMPOA WEST', 'LOR LIMAU', 'KALLANG BAHRU', 'GEYLANG BAHRU',\n",
       "       'DORSET RD', 'OWEN RD', 'KG ARANG RD', 'JLN BAHAGIA',\n",
       "       'MOULMEIN RD', 'TOWNER RD', 'JLN RAJAH', 'KENT RD', 'AH HOOD RD',\n",
       "       \"KING GEORGE'S AVE\", 'CRAWFORD LANE', 'MARINE CRES', 'MARINE DR',\n",
       "       'MARINE TER', \"C'WEALTH CL\", \"C'WEALTH DR\", 'TANGLIN HALT RD',\n",
       "       \"C'WEALTH CRES\", 'DOVER RD', 'MARGARET DR', 'GHIM MOH RD',\n",
       "       'DOVER CRES', 'STIRLING RD', 'MEI LING ST', 'HOLLAND CL',\n",
       "       'HOLLAND AVE', 'HOLLAND DR', 'DOVER CL EAST',\n",
       "       'SELETAR WEST FARMWAY 6', 'LOR LEW LIAN', 'SERANGOON NTH AVE 1',\n",
       "       'SERANGOON AVE 2', 'SERANGOON AVE 4', 'SERANGOON CTRL',\n",
       "       'TAMPINES ST 11', 'TAMPINES ST 21', 'TAMPINES ST 91',\n",
       "       'TAMPINES ST 81', 'TAMPINES AVE 4', 'TAMPINES ST 22',\n",
       "       'TAMPINES ST 12', 'TAMPINES ST 23', 'TAMPINES ST 24',\n",
       "       'TAMPINES ST 41', 'TAMPINES ST 82', 'TAMPINES ST 83',\n",
       "       'TAMPINES AVE 5', 'LOR 2 TOA PAYOH', 'LOR 8 TOA PAYOH',\n",
       "       'LOR 1 TOA PAYOH', 'LOR 5 TOA PAYOH', 'LOR 3 TOA PAYOH',\n",
       "       'LOR 7 TOA PAYOH', 'TOA PAYOH EAST', 'LOR 4 TOA PAYOH',\n",
       "       'TOA PAYOH CTRL', 'TOA PAYOH NTH', 'POTONG PASIR AVE 3',\n",
       "       'POTONG PASIR AVE 1', 'UPP ALJUNIED LANE', 'JOO SENG RD',\n",
       "       'MARSILING LANE', 'MARSILING DR', 'MARSILING RISE',\n",
       "       'MARSILING CRES', 'WOODLANDS CTR RD', 'WOODLANDS ST 13',\n",
       "       'WOODLANDS ST 11', 'YISHUN RING RD', 'YISHUN AVE 5',\n",
       "       'YISHUN ST 72', 'YISHUN ST 11', 'YISHUN ST 21', 'YISHUN ST 22',\n",
       "       'YISHUN AVE 3', 'CHAI CHEE AVE', 'ZION RD', 'LENGKOK BAHRU',\n",
       "       'SPOTTISWOODE PK RD', 'NEW MKT RD', 'TG PAGAR PLAZA',\n",
       "       'KELANTAN RD', 'PAYA LEBAR WAY', 'UBI AVE 1', 'SIMS AVE',\n",
       "       'YUNG PING RD', 'TAO CHING RD', 'GLOUCESTER RD', 'BOON KENG RD',\n",
       "       'WHAMPOA STH', 'CAMBRIDGE RD', 'TAMPINES ST 42', 'LOR 6 TOA PAYOH',\n",
       "       'KIM KEAT AVE', 'YISHUN AVE 6', 'YISHUN AVE 9', 'YISHUN ST 71',\n",
       "       'BT BATOK ST 32', 'SILAT AVE', 'TIONG BAHRU RD', 'SAGO LANE',\n",
       "       \"ST. GEORGE'S LANE\", 'LIM CHU KANG RD', \"C'WEALTH AVE\",\n",
       "       \"QUEEN'S CL\", 'SERANGOON AVE 3', 'POTONG PASIR AVE 2',\n",
       "       'WOODLANDS AVE 1', 'YISHUN AVE 4', 'LOWER DELTA RD', 'NILE RD',\n",
       "       'JLN MEMBINA BARAT', 'JLN BERSEH', 'CHANDER RD', 'CASSIA CRES',\n",
       "       'OLD AIRPORT RD', 'ALJUNIED RD', 'BUANGKOK STH FARMWAY 1',\n",
       "       'BT BATOK ST 33', 'ALEXANDRA RD', 'CHIN SWEE RD', 'SIMS PL',\n",
       "       'HOUGANG AVE 2', 'HOUGANG AVE 8', 'SEMBAWANG RD', 'SIMEI ST 1',\n",
       "       'BT BATOK ST 34', 'BT MERAH CTRL', 'LIM LIAK ST', 'JLN TENTERAM',\n",
       "       'WOODLANDS ST 32', 'SIN MING AVE', 'BT BATOK ST 52', 'DELTA AVE',\n",
       "       'PIPIT RD', 'HOUGANG AVE 4', 'QUEENSWAY', 'YISHUN ST 61',\n",
       "       'BISHAN ST 12', \"JLN MA'MOR\", 'TAMPINES ST 44', 'TAMPINES ST 43',\n",
       "       'BISHAN ST 13', 'JLN DUSUN', 'YISHUN AVE 2', 'JOO CHIAT RD',\n",
       "       'EAST COAST RD', 'REDHILL RD', 'KIM PONG RD', 'RACE COURSE RD',\n",
       "       'KRETA AYER RD', 'HOUGANG ST 61', 'TESSENSOHN RD', 'MARSILING RD',\n",
       "       'YISHUN ST 81', 'BT BATOK ST 51', 'BT BATOK WEST AVE 4',\n",
       "       'BT BATOK WEST AVE 2', 'JURONG WEST ST 91', 'JURONG WEST ST 81',\n",
       "       'GANGSA RD', 'MCNAIR RD', 'SIMEI ST 4', 'YISHUN AVE 7',\n",
       "       'SERANGOON NTH AVE 2', 'YISHUN AVE 11', 'BANGKIT RD',\n",
       "       'JURONG WEST ST 73', 'OUTRAM HILL', 'HOUGANG AVE 6',\n",
       "       'PASIR RIS ST 12', 'PENDING RD', 'PETIR RD', 'LOR 3 GEYLANG',\n",
       "       'BISHAN ST 11', 'PASIR RIS DR 6', 'BISHAN ST 23',\n",
       "       'JURONG WEST ST 92', 'PASIR RIS ST 11', 'YISHUN CTRL',\n",
       "       'BISHAN ST 22', 'SIMEI RD', 'TAMPINES ST 84', 'BT PANJANG RING RD',\n",
       "       'JURONG WEST ST 93', 'FAJAR RD', 'WOODLANDS ST 81',\n",
       "       'CHOA CHU KANG CTRL', 'PASIR RIS ST 51', 'HOUGANG ST 52',\n",
       "       'CASHEW RD', 'TOH YI DR', 'HOUGANG CTRL', 'KG KAYU RD',\n",
       "       'TAMPINES AVE 8', 'TAMPINES ST 45', 'SIMEI ST 2',\n",
       "       'WOODLANDS AVE 3', 'LENGKONG TIGA', 'WOODLANDS ST 82',\n",
       "       'SERANGOON NTH AVE 4', 'SERANGOON CTRL DR', 'BRIGHT HILL DR',\n",
       "       'SAUJANA RD', 'CHOA CHU KANG AVE 3', 'TAMPINES AVE 9',\n",
       "       'JURONG WEST ST 51', 'YUNG HO RD', 'SERANGOON AVE 1',\n",
       "       'PASIR RIS ST 41', 'GEYLANG EAST AVE 2', 'CHOA CHU KANG AVE 2',\n",
       "       'KIM KEAT LINK', 'PASIR RIS DR 4', 'PASIR RIS ST 21',\n",
       "       'SENG POH RD', 'HOUGANG ST 51', 'JURONG WEST ST 72',\n",
       "       'JURONG WEST ST 71', 'PASIR RIS ST 52', 'TAMPINES ST 32',\n",
       "       'CHOA CHU KANG AVE 4', 'CHOA CHU KANG LOOP', 'JLN TENAGA',\n",
       "       'TAMPINES CTRL 1', 'TAMPINES ST 33', 'BT BATOK WEST AVE 7',\n",
       "       'JURONG WEST AVE 5', 'TAMPINES AVE 7', 'WOODLANDS ST 83',\n",
       "       'CHOA CHU KANG ST 51', 'PASIR RIS DR 3', 'YISHUN CTRL 1',\n",
       "       'CHOA CHU KANG AVE 1', 'WOODLANDS ST 31', 'BT MERAH LANE 1',\n",
       "       'PASIR RIS ST 13', 'ELIAS RD', 'BISHAN ST 24', 'WHAMPOA RD',\n",
       "       'WOODLANDS ST 41', 'PASIR RIS ST 71', 'JURONG WEST ST 74',\n",
       "       'PASIR RIS DR 1', 'PASIR RIS ST 72', 'PASIR RIS DR 10',\n",
       "       'CHOA CHU KANG ST 52', 'CLARENCE LANE', 'CHOA CHU KANG NTH 6',\n",
       "       'PASIR RIS ST 53', 'CHOA CHU KANG NTH 5', 'ANG MO KIO ST 21',\n",
       "       'JLN DAMAI', 'CHOA CHU KANG ST 62', 'WOODLANDS AVE 5',\n",
       "       'WOODLANDS DR 50', 'CHOA CHU KANG ST 53', 'TAMPINES ST 72',\n",
       "       'UPP SERANGOON RD', 'JURONG WEST ST 75', 'STRATHMORE AVE',\n",
       "       'ANG MO KIO ST 31', 'TAMPINES ST 34', 'YUNG AN RD',\n",
       "       'WOODLANDS AVE 4', 'CHOA CHU KANG NTH 7', 'ANG MO KIO ST 11',\n",
       "       'WOODLANDS AVE 9', 'YUNG LOH RD', 'CHOA CHU KANG DR',\n",
       "       'CHOA CHU KANG ST 54', 'REDHILL LANE', 'KANG CHING RD',\n",
       "       'TAH CHING RD', 'SIMEI ST 5', 'WOODLANDS DR 40', 'WOODLANDS DR 70',\n",
       "       'TAMPINES ST 71', 'WOODLANDS DR 42', 'SERANGOON NTH AVE 3',\n",
       "       'JELAPANG RD', 'BT BATOK ST 22', 'HOUGANG ST 91',\n",
       "       'WOODLANDS AVE 6', 'WOODLANDS CIRCLE', 'CORPORATION DR',\n",
       "       'LOMPANG RD', 'WOODLANDS DR 72', 'CHOA CHU KANG ST 64',\n",
       "       'BT BATOK ST 24', 'JLN TECK WHYE', 'WOODLANDS CRES',\n",
       "       'WOODLANDS DR 60', 'CHANGI VILLAGE RD', 'BT BATOK ST 25',\n",
       "       'HOUGANG AVE 9', 'JURONG WEST CTRL 1', 'WOODLANDS RING RD',\n",
       "       'CHOA CHU KANG AVE 5', 'TOH GUAN RD', 'JURONG WEST ST 61',\n",
       "       'WOODLANDS DR 14', 'HOUGANG ST 92', 'CHOA CHU KANG CRES',\n",
       "       'SEMBAWANG CL', 'CANBERRA RD', 'SEMBAWANG CRES', 'SEMBAWANG VISTA',\n",
       "       'COMPASSVALE WALK', 'RIVERVALE ST', 'WOODLANDS DR 62',\n",
       "       'SEMBAWANG DR', 'WOODLANDS DR 53', 'WOODLANDS DR 52',\n",
       "       'RIVERVALE WALK', 'COMPASSVALE LANE', 'RIVERVALE DR', 'SENJA RD',\n",
       "       'JURONG WEST ST 65', 'RIVERVALE CRES', 'WOODLANDS DR 44',\n",
       "       'COMPASSVALE DR', 'WOODLANDS DR 16', 'COMPASSVALE RD',\n",
       "       'WOODLANDS DR 73', 'HOUGANG ST 31', 'JURONG WEST ST 64',\n",
       "       'WOODLANDS DR 71', 'YISHUN ST 20', 'ADMIRALTY DR',\n",
       "       'COMPASSVALE ST', 'BEDOK RESERVOIR VIEW', 'YUNG SHENG RD',\n",
       "       'ADMIRALTY LINK', 'SENGKANG EAST WAY', 'ANG MO KIO ST 32',\n",
       "       'ANG MO KIO ST 52', 'BOON TIONG RD', 'JURONG WEST ST 62',\n",
       "       'ANCHORVALE LINK', 'CANBERRA LINK', 'COMPASSVALE CRES',\n",
       "       'CLEMENTI ST 12', 'MONTREAL DR', 'WELLINGTON CIRCLE',\n",
       "       'SENGKANG EAST RD', 'JURONG WEST AVE 3', 'ANCHORVALE LANE',\n",
       "       'SENJA LINK', 'EDGEFIELD PLAINS', 'ANCHORVALE DR', 'SEGAR RD',\n",
       "       'FARRER PK RD', 'PUNGGOL FIELD', 'EDGEDALE PLAINS',\n",
       "       'ANCHORVALE RD', 'CANTONMENT CL', 'JLN MEMBINA', 'FERNVALE LANE',\n",
       "       'JURONG WEST ST 25', 'CLEMENTI ST 11', 'PUNGGOL FIELD WALK',\n",
       "       'KLANG LANE', 'PUNGGOL CTRL', 'JELEBU RD', 'BUANGKOK CRES',\n",
       "       'WOODLANDS DR 75', 'BT BATOK WEST AVE 5', 'JELLICOE RD',\n",
       "       'PUNGGOL DR', 'JURONG WEST ST 24', 'SEMBAWANG WAY', 'FERNVALE RD',\n",
       "       'BUANGKOK LINK', 'FERNVALE LINK', 'JLN TIGA', 'YUAN CHING RD',\n",
       "       'COMPASSVALE LINK', 'MARINE PARADE CTRL', 'COMPASSVALE BOW',\n",
       "       'PUNGGOL RD', 'BEDOK CTRL', 'PUNGGOL EAST', 'SENGKANG CTRL',\n",
       "       'TAMPINES CTRL 7', 'SENGKANG WEST AVE', 'PUNGGOL PL',\n",
       "       'CANTONMENT RD', 'GHIM MOH LINK', 'SIMEI LANE', 'YISHUN ST 41',\n",
       "       'TELOK BLANGAH ST 31', 'JLN KAYU', 'LOR 1A TOA PAYOH',\n",
       "       'PUNGGOL WALK', 'SENGKANG WEST WAY', 'BUANGKOK GREEN',\n",
       "       'PUNGGOL WAY', 'YISHUN ST 31', 'TECK WHYE CRES', 'MONTREAL LINK',\n",
       "       'UPP SERANGOON CRES', 'SUMANG LINK', 'SENGKANG EAST AVE',\n",
       "       'YISHUN AVE 1', 'ANCHORVALE CRES', 'ANCHORVALE ST',\n",
       "       'TAMPINES CTRL 8', 'YISHUN ST 51', 'UPP SERANGOON VIEW',\n",
       "       'TAMPINES AVE 1', 'BEDOK RESERVOIR CRES', 'ANG MO KIO ST 61',\n",
       "       'DAWSON RD', 'FERNVALE ST', 'HOUGANG ST 32', 'TAMPINES ST 86',\n",
       "       'SUMANG WALK', 'CHOA CHU KANG AVE 7', 'KEAT HONG CL',\n",
       "       'JURONG WEST CTRL 3', 'KEAT HONG LINK', 'ALJUNIED AVE 2',\n",
       "       'SUMANG LANE', 'CANBERRA CRES', 'CANBERRA ST', 'ANG MO KIO ST 44',\n",
       "       'WOODLANDS RISE', 'CANBERRA WALK', 'ANG MO KIO ST 51',\n",
       "       'BT BATOK EAST AVE 6', 'BT BATOK WEST AVE 9', 'TAMPINES ST 61',\n",
       "       'YISHUN ST 43'], dtype=object)"
      ]
     },
     "execution_count": 147,
     "metadata": {},
     "output_type": "execute_result"
    }
   ],
   "source": [
    "merged_df['street_name'].unique()"
   ]
  },
  {
   "cell_type": "code",
   "execution_count": 148,
   "id": "06e84c77",
   "metadata": {},
   "outputs": [
    {
     "name": "stdout",
     "output_type": "stream",
     "text": [
      "          flat_type  flat_model\n",
      "0            1 ROOM           2\n",
      "1            2 ROOM           9\n",
      "2            3 ROOM          15\n",
      "3            4 ROOM          18\n",
      "4            5 ROOM          17\n",
      "5         EXECUTIVE           8\n",
      "6  MULTI GENERATION           2\n"
     ]
    },
    {
     "data": {
      "image/png": "[encoded data removed]",
      "text/plain": [
       "<Figure size 500x400 with 1 Axes>"
      ]
     },
     "metadata": {},
     "output_type": "display_data"
    }
   ],
   "source": [
    "temp = pd.DataFrame(merged_df.groupby('flat_type')['flat_model'].nunique()).reset_index()\n",
    "print(temp)\n",
    "plt.figure(figsize = (5,4))\n",
    "plt.pie(temp['flat_model'], labels = temp['flat_type'], autopct = '%.0f%%')\n",
    "plt.show()"
   ]
  },
  {
   "cell_type": "markdown",
   "id": "6e13beb4",
   "metadata": {},
   "source": [
    "observation from pie chart \n",
    "* 4 room , 5 room and 3 room holds the most number of shares of the flat model"
   ]
  },
  {
   "cell_type": "code",
   "execution_count": 149,
   "id": "375096e1",
   "metadata": {},
   "outputs": [
    {
     "data": {
      "text/plain": [
       "<Axes: title={'center': 'floor area distribution of flat type'}, xlabel='flat_type', ylabel='floor_area_sqm'>"
      ]
     },
     "execution_count": 149,
     "metadata": {},
     "output_type": "execute_result"
    },
    {
     "data": {
      "image/png": "[encoded data removed]",
      "text/plain": [
       "<Figure size 1200x500 with 1 Axes>"
      ]
     },
     "metadata": {},
     "output_type": "display_data"
    }
   ],
   "source": [
    "import seaborn as sns\n",
    "\n",
    "\n",
    "plt.figure(figsize = (12,5))\n",
    "plt.title('floor area distribution of flat type')\n",
    "sns.boxplot(x = 'flat_type', y ='floor_area_sqm', data = merged_df, showfliers = False)"
   ]
  },
  {
   "cell_type": "markdown",
   "id": "3b7550e3",
   "metadata": {},
   "source": [
    "*from the above box plot we can see that flat type multi generation has maximum floor area and 1 room has minimum"
   ]
  },
  {
   "cell_type": "code",
   "execution_count": 150,
   "id": "ca76fbf3",
   "metadata": {},
   "outputs": [
    {
     "data": {
      "image/png": "[encoded data removed]",
      "text/plain": [
       "<Figure size 1000x600 with 1 Axes>"
      ]
     },
     "metadata": {},
     "output_type": "display_data"
    }
   ],
   "source": [
    "merged_df['lease_commence_date'] = merged_df['lease_commence_date']\n",
    "\n",
    "plt.figure(figsize=(10, 6))\n",
    "sns.lineplot(x='reg_year', y='resale_price', data=merged_df)\n",
    "plt.title('Resale Price Trend Over Time')\n",
    "plt.xlabel('Year')\n",
    "plt.ylabel('Resale Price')\n",
    "plt.show()"
   ]
  },
  {
   "cell_type": "markdown",
   "id": "1f7528dc",
   "metadata": {},
   "source": [
    "* from the above line graph we can see that the resale price is increasing over the years"
   ]
  },
  {
   "cell_type": "code",
   "execution_count": 151,
   "id": "ae86fd96-7ef0-4cc6-843f-c5553eeb7d4f",
   "metadata": {},
   "outputs": [],
   "source": [
    "# Use LabelEncoder to convert 'street_name','flat_model' ,'flat_type' ,'town' to numeric\n",
    "label_encoder = LabelEncoder()\n",
    "merged_df['street_name'] = label_encoder.fit_transform(merged_df['street_name'])"
   ]
  },
  {
   "cell_type": "code",
   "execution_count": 152,
   "id": "f0641703-5ecf-4569-ab33-5605f4511c53",
   "metadata": {},
   "outputs": [],
   "source": [
    "label_encoder = LabelEncoder()\n",
    "merged_df['flat_type'] = label_encoder.fit_transform(merged_df['flat_type'])"
   ]
  },
  {
   "cell_type": "code",
   "execution_count": 153,
   "id": "ac50a10e-e3bc-46dd-8b97-84a6b5472eaa",
   "metadata": {},
   "outputs": [],
   "source": [
    "label_encoder = LabelEncoder()\n",
    "merged_df['flat_model'] = label_encoder.fit_transform(merged_df['flat_model'])"
   ]
  },
  {
   "cell_type": "code",
   "execution_count": 154,
   "id": "51a21a5a-5f2e-4662-8df4-064d44968003",
   "metadata": {},
   "outputs": [],
   "source": [
    "label_encoder = LabelEncoder()\n",
    "merged_df['town'] = label_encoder.fit_transform(merged_df['town'])"
   ]
  },
  {
   "cell_type": "code",
   "execution_count": 155,
   "id": "3f29a6c3-2cdf-4f08-81c2-954996ac3975",
   "metadata": {},
   "outputs": [],
   "source": [
    "label_encoder = LabelEncoder()\n",
    "merged_df['storey_range'] = label_encoder.fit_transform(merged_df['storey_range'])"
   ]
  },
  {
   "cell_type": "code",
   "execution_count": 156,
   "id": "44d16b50-4168-47de-b3f0-3281fdc92bf9",
   "metadata": {},
   "outputs": [],
   "source": [
    "merged_df.drop(columns='month', inplace=True)"
   ]
  },
  {
   "cell_type": "code",
   "execution_count": 157,
   "id": "58e74cee-2738-43bb-b8e8-5cca5dba8165",
   "metadata": {},
   "outputs": [
    {
     "data": {
      "text/html": [
       "<div>\n",
       "<style scoped>\n",
       "    .dataframe tbody tr th:only-of-type {\n",
       "        vertical-align: middle;\n",
       "    }\n",
       "\n",
       "    .dataframe tbody tr th {\n",
       "        vertical-align: top;\n",
       "    }\n",
       "\n",
       "    .dataframe thead th {\n",
       "        text-align: right;\n",
       "    }\n",
       "</style>\n",
       "<table border=\"1\" class=\"dataframe\">\n",
       "  <thead>\n",
       "    <tr style=\"text-align: right;\">\n",
       "      <th></th>\n",
       "      <th>town</th>\n",
       "      <th>flat_type</th>\n",
       "      <th>block</th>\n",
       "      <th>street_name</th>\n",
       "      <th>storey_range</th>\n",
       "      <th>floor_area_sqm</th>\n",
       "      <th>flat_model</th>\n",
       "      <th>lease_commence_date</th>\n",
       "      <th>resale_price</th>\n",
       "      <th>remaining_lease</th>\n",
       "      <th>reg_year</th>\n",
       "      <th>reg_month</th>\n",
       "    </tr>\n",
       "  </thead>\n",
       "  <tbody>\n",
       "    <tr>\n",
       "      <th>0</th>\n",
       "      <td>0</td>\n",
       "      <td>0</td>\n",
       "      <td>309</td>\n",
       "      <td>13</td>\n",
       "      <td>5</td>\n",
       "      <td>31.0</td>\n",
       "      <td>7</td>\n",
       "      <td>1977</td>\n",
       "      <td>9000.0</td>\n",
       "      <td>0</td>\n",
       "      <td>1990</td>\n",
       "      <td>1</td>\n",
       "    </tr>\n",
       "  </tbody>\n",
       "</table>\n",
       "</div>"
      ],
      "text/plain": [
       "   town  flat_type block  street_name  storey_range  floor_area_sqm  \\\n",
       "0     0          0   309           13             5            31.0   \n",
       "\n",
       "   flat_model  lease_commence_date  resale_price remaining_lease  reg_year  \\\n",
       "0           7                 1977        9000.0               0      1990   \n",
       "\n",
       "   reg_month  \n",
       "0          1  "
      ]
     },
     "execution_count": 157,
     "metadata": {},
     "output_type": "execute_result"
    }
   ],
   "source": [
    "merged_df.head(1)"
   ]
  },
  {
   "cell_type": "code",
   "execution_count": 158,
   "id": "4ef3030b",
   "metadata": {},
   "outputs": [],
   "source": [
    "merged_df.drop(\"remaining_lease\",inplace = True , axis = 1)"
   ]
  },
  {
   "cell_type": "code",
   "execution_count": 159,
   "id": "66edb051",
   "metadata": {},
   "outputs": [
    {
     "data": {
      "text/plain": [
       "array([ 13,  16,  17,  14,  18,  20,  19,  21,  15,  45,  42,  50, 340,\n",
       "        39,  47, 115, 114,  38,  49,  48,  41,  43,  36,  37,  35,  40,\n",
       "       116, 437, 425,  70,  86,  84,  71,  68,  67, 200,  65,  75,  66,\n",
       "       448, 487,  52, 488, 166, 490, 236, 199, 228,  90, 198,  92, 489,\n",
       "       178, 292, 385, 226, 197, 241, 248, 235, 294, 335, 492, 299, 298,\n",
       "       175, 382, 181, 242, 345, 424, 397, 505, 510, 380,  97, 393, 392,\n",
       "        30, 438, 509, 484, 486, 143, 512, 142, 145, 144, 141, 513, 151,\n",
       "       152, 149,  99, 146, 150, 139, 322, 246, 192, 176, 434,   5, 189,\n",
       "       163, 366, 196,  31, 238, 191, 177, 208, 210, 205, 218, 206, 318,\n",
       "       216, 212, 217, 483, 255, 260, 256, 257, 258, 259, 347, 579, 201,\n",
       "       227,  61,  60,  62, 271, 268, 261, 269, 233, 441, 342, 186,  33,\n",
       "       514, 504,  51, 517, 320, 285, 188, 167, 346, 291, 232, 338, 501,\n",
       "       247, 290,   2, 300, 162, 324, 325, 327, 100, 102, 481, 101, 170,\n",
       "       323, 194, 169, 442, 334, 203, 202, 204, 168, 398, 319, 420, 415,\n",
       "       417, 418, 458, 460, 480, 475, 450, 461, 459, 462, 463, 467, 476,\n",
       "       477, 451, 310, 317, 308, 314, 312, 316, 497, 313, 496, 498, 370,\n",
       "       368, 503, 254, 330, 329, 332, 328, 526, 545, 544, 563, 557, 574,\n",
       "       564, 566, 567, 555, 113, 583, 303, 439, 339, 494, 289, 363, 502,\n",
       "       433, 581, 482, 195,  59, 516, 103, 468, 315, 295, 558, 560, 573,\n",
       "        76, 426, 495, 394, 440, 305,  98, 381, 416, 369, 518, 556, 321,\n",
       "       341, 245, 234, 117, 112, 343,   6,  96,  77,   3, 119, 435, 207,\n",
       "       213, 402, 429,  78,  88, 306, 251, 547, 436,  80, 165, 367, 209,\n",
       "       383, 572,  54, 243, 470, 469,  55, 239, 554, 253, 171, 387, 297,\n",
       "       384, 302, 223, 493, 331, 575,  79,  82,  81, 282, 281, 187, 333,\n",
       "       431, 559, 421, 553,  32, 278, 344, 211, 354, 364, 365, 311,  53,\n",
       "       352,  57, 283, 353, 561,  56, 428, 478,  91, 284, 179, 549, 127,\n",
       "       358, 222, 111, 500, 215, 293, 453, 471, 430, 519, 304, 550, 423,\n",
       "       419,  64, 395, 122, 454, 270, 578, 414, 357, 190, 121, 296, 351,\n",
       "       356, 405, 221, 277, 276, 359, 464, 123, 129, 250, 455, 465,  85,\n",
       "       263, 452, 551, 133, 350, 562, 120, 546,  89, 355, 174,  58, 515,\n",
       "       548, 361, 279, 348, 362, 349, 134, 140, 131, 360, 130,  23, 237,\n",
       "       137, 521, 532, 135, 474, 507, 280, 443,  24, 466, 577, 520, 132,\n",
       "        22, 523, 580, 128, 136, 386, 286, 447, 432, 529, 537, 473, 530,\n",
       "       422, 229,  72, 224, 522, 524, 161, 307, 539, 138,  73, 249, 525,\n",
       "       535, 118,  74, 214, 264, 542, 124, 499, 272, 527, 225, 126, 399,\n",
       "       106, 400, 403, 160, 390, 536, 401, 534, 533, 391, 156, 389, 413,\n",
       "       275, 388, 531, 155, 528, 158, 540, 219, 274, 538, 565,   0, 159,\n",
       "        46, 582,   1, 409,  25,  28,  63, 273,  10, 105, 154, 148, 336,\n",
       "       511, 408, 262,   9, 412, 173,   8, 396, 180, 374, 172,  11, 109,\n",
       "       244, 182, 267, 147, 375, 301, 371, 230,  93, 541,  83, 231, 372,\n",
       "       266, 404, 184,  95, 183, 252, 576, 157, 326, 153, 377,  34, 373,\n",
       "       406, 456, 410, 376, 110, 193, 427, 569, 491, 240, 309, 378, 411,\n",
       "        94, 379, 568, 485, 337, 506, 445, 407, 552,   7,  12, 457, 571,\n",
       "       508, 449,  44,  29, 164, 185, 220, 479, 446, 125, 287, 265, 288,\n",
       "         4, 444, 104, 107,  26, 543, 108,  27,  69,  87, 472, 570])"
      ]
     },
     "execution_count": 159,
     "metadata": {},
     "output_type": "execute_result"
    }
   ],
   "source": [
    "merged_df['street_name'].unique()"
   ]
  },
  {
   "cell_type": "code",
   "execution_count": 160,
   "id": "b494b40f",
   "metadata": {},
   "outputs": [
    {
     "data": {
      "text/plain": [
       "<Axes: title={'center': 'Correlation Matrix'}>"
      ]
     },
     "execution_count": 160,
     "metadata": {},
     "output_type": "execute_result"
    },
    {
     "data": {
      "image/png": "[encoded data removed]",
      "text/plain": [
       "<Figure size 1000x400 with 2 Axes>"
      ]
     },
     "metadata": {},
     "output_type": "display_data"
    }
   ],
   "source": [
    "feature_cols = ['town', 'flat_type', 'block', 'street_name', 'storey_range','floor_area_sqm', 'flat_model', 'lease_commence_date',\n",
    "                 'resale_price']\n",
    "plt.figure(figsize = (10,4))\n",
    "plt.title('Correlation Matrix')\n",
    "sns.heatmap(merged_df[feature_cols].corr(),cmap=\"Reds\", annot = True)"
   ]
  },
  {
   "cell_type": "code",
   "execution_count": 161,
   "id": "63388c20-6ecc-4f6c-abf2-924d04967537",
   "metadata": {},
   "outputs": [],
   "source": [
    "# Split the data into features and target\n",
    "x = merged_df[['town','flat_type','block','street_name','storey_range','storey_range','flat_model','lease_commence_date','reg_year','reg_month']]\n",
    "y = merged_df['resale_price']"
   ]
  },
  {
   "cell_type": "markdown",
   "id": "54df7bac-c165-449e-b663-11ccd7aebf4a",
   "metadata": {},
   "source": [
    "## Model Selection and Training"
   ]
  },
  {
   "cell_type": "code",
   "execution_count": 162,
   "id": "25c6c369-c942-4c02-a9e3-d28017a4a6c8",
   "metadata": {},
   "outputs": [],
   "source": [
    "from sklearn.model_selection import train_test_split\n",
    "\n",
    "# Split the data into train and test\n",
    "x_train, x_test, y_train, y_test = train_test_split(x, y, test_size=0.2, random_state=42)"
   ]
  },
  {
   "cell_type": "code",
   "execution_count": 163,
   "id": "aa43f5f9-e994-4899-aeb5-0518e0f8855e",
   "metadata": {},
   "outputs": [
    {
     "data": {
      "text/html": [
       "<div>\n",
       "<style scoped>\n",
       "    .dataframe tbody tr th:only-of-type {\n",
       "        vertical-align: middle;\n",
       "    }\n",
       "\n",
       "    .dataframe tbody tr th {\n",
       "        vertical-align: top;\n",
       "    }\n",
       "\n",
       "    .dataframe thead th {\n",
       "        text-align: right;\n",
       "    }\n",
       "</style>\n",
       "<table border=\"1\" class=\"dataframe\">\n",
       "  <thead>\n",
       "    <tr style=\"text-align: right;\">\n",
       "      <th></th>\n",
       "      <th>town</th>\n",
       "      <th>flat_type</th>\n",
       "      <th>block</th>\n",
       "      <th>street_name</th>\n",
       "      <th>storey_range</th>\n",
       "      <th>storey_range</th>\n",
       "      <th>flat_model</th>\n",
       "      <th>lease_commence_date</th>\n",
       "      <th>reg_year</th>\n",
       "      <th>reg_month</th>\n",
       "    </tr>\n",
       "  </thead>\n",
       "  <tbody>\n",
       "    <tr>\n",
       "      <th>235758</th>\n",
       "      <td>8</td>\n",
       "      <td>4</td>\n",
       "      <td>236</td>\n",
       "      <td>127</td>\n",
       "      <td>2</td>\n",
       "      <td>2</td>\n",
       "      <td>7</td>\n",
       "      <td>1989</td>\n",
       "      <td>1999</td>\n",
       "      <td>2</td>\n",
       "    </tr>\n",
       "    <tr>\n",
       "      <th>519639</th>\n",
       "      <td>18</td>\n",
       "      <td>3</td>\n",
       "      <td>176</td>\n",
       "      <td>173</td>\n",
       "      <td>5</td>\n",
       "      <td>5</td>\n",
       "      <td>16</td>\n",
       "      <td>2003</td>\n",
       "      <td>2007</td>\n",
       "      <td>4</td>\n",
       "    </tr>\n",
       "    <tr>\n",
       "      <th>422166</th>\n",
       "      <td>26</td>\n",
       "      <td>4</td>\n",
       "      <td>799</td>\n",
       "      <td>563</td>\n",
       "      <td>4</td>\n",
       "      <td>4</td>\n",
       "      <td>9</td>\n",
       "      <td>1987</td>\n",
       "      <td>2003</td>\n",
       "      <td>11</td>\n",
       "    </tr>\n",
       "    <tr>\n",
       "      <th>508246</th>\n",
       "      <td>8</td>\n",
       "      <td>4</td>\n",
       "      <td>688</td>\n",
       "      <td>126</td>\n",
       "      <td>7</td>\n",
       "      <td>7</td>\n",
       "      <td>9</td>\n",
       "      <td>2003</td>\n",
       "      <td>2006</td>\n",
       "      <td>11</td>\n",
       "    </tr>\n",
       "    <tr>\n",
       "      <th>119337</th>\n",
       "      <td>22</td>\n",
       "      <td>3</td>\n",
       "      <td>523</td>\n",
       "      <td>423</td>\n",
       "      <td>2</td>\n",
       "      <td>2</td>\n",
       "      <td>12</td>\n",
       "      <td>1992</td>\n",
       "      <td>1996</td>\n",
       "      <td>3</td>\n",
       "    </tr>\n",
       "    <tr>\n",
       "      <th>...</th>\n",
       "      <td>...</td>\n",
       "      <td>...</td>\n",
       "      <td>...</td>\n",
       "      <td>...</td>\n",
       "      <td>...</td>\n",
       "      <td>...</td>\n",
       "      <td>...</td>\n",
       "      <td>...</td>\n",
       "      <td>...</td>\n",
       "      <td>...</td>\n",
       "    </tr>\n",
       "    <tr>\n",
       "      <th>259178</th>\n",
       "      <td>11</td>\n",
       "      <td>2</td>\n",
       "      <td>328</td>\n",
       "      <td>210</td>\n",
       "      <td>5</td>\n",
       "      <td>5</td>\n",
       "      <td>20</td>\n",
       "      <td>1983</td>\n",
       "      <td>1999</td>\n",
       "      <td>6</td>\n",
       "    </tr>\n",
       "    <tr>\n",
       "      <th>365838</th>\n",
       "      <td>25</td>\n",
       "      <td>4</td>\n",
       "      <td>214</td>\n",
       "      <td>330</td>\n",
       "      <td>13</td>\n",
       "      <td>13</td>\n",
       "      <td>9</td>\n",
       "      <td>1981</td>\n",
       "      <td>2002</td>\n",
       "      <td>2</td>\n",
       "    </tr>\n",
       "    <tr>\n",
       "      <th>131932</th>\n",
       "      <td>1</td>\n",
       "      <td>2</td>\n",
       "      <td>537</td>\n",
       "      <td>42</td>\n",
       "      <td>2</td>\n",
       "      <td>2</td>\n",
       "      <td>20</td>\n",
       "      <td>1980</td>\n",
       "      <td>1996</td>\n",
       "      <td>8</td>\n",
       "    </tr>\n",
       "    <tr>\n",
       "      <th>671155</th>\n",
       "      <td>21</td>\n",
       "      <td>3</td>\n",
       "      <td>275</td>\n",
       "      <td>157</td>\n",
       "      <td>0</td>\n",
       "      <td>0</td>\n",
       "      <td>23</td>\n",
       "      <td>2009</td>\n",
       "      <td>2012</td>\n",
       "      <td>9</td>\n",
       "    </tr>\n",
       "    <tr>\n",
       "      <th>121958</th>\n",
       "      <td>22</td>\n",
       "      <td>2</td>\n",
       "      <td>223</td>\n",
       "      <td>417</td>\n",
       "      <td>2</td>\n",
       "      <td>2</td>\n",
       "      <td>20</td>\n",
       "      <td>1984</td>\n",
       "      <td>1996</td>\n",
       "      <td>4</td>\n",
       "    </tr>\n",
       "  </tbody>\n",
       "</table>\n",
       "<p>731744 rows × 10 columns</p>\n",
       "</div>"
      ],
      "text/plain": [
       "        town  flat_type block  street_name  storey_range  storey_range  \\\n",
       "235758     8          4   236          127             2             2   \n",
       "519639    18          3   176          173             5             5   \n",
       "422166    26          4   799          563             4             4   \n",
       "508246     8          4   688          126             7             7   \n",
       "119337    22          3   523          423             2             2   \n",
       "...      ...        ...   ...          ...           ...           ...   \n",
       "259178    11          2   328          210             5             5   \n",
       "365838    25          4   214          330            13            13   \n",
       "131932     1          2   537           42             2             2   \n",
       "671155    21          3   275          157             0             0   \n",
       "121958    22          2   223          417             2             2   \n",
       "\n",
       "        flat_model  lease_commence_date  reg_year  reg_month  \n",
       "235758           7                 1989      1999          2  \n",
       "519639          16                 2003      2007          4  \n",
       "422166           9                 1987      2003         11  \n",
       "508246           9                 2003      2006         11  \n",
       "119337          12                 1992      1996          3  \n",
       "...            ...                  ...       ...        ...  \n",
       "259178          20                 1983      1999          6  \n",
       "365838           9                 1981      2002          2  \n",
       "131932          20                 1980      1996          8  \n",
       "671155          23                 2009      2012          9  \n",
       "121958          20                 1984      1996          4  \n",
       "\n",
       "[731744 rows x 10 columns]"
      ]
     },
     "execution_count": 163,
     "metadata": {},
     "output_type": "execute_result"
    }
   ],
   "source": [
    "x_train"
   ]
  },
  {
   "cell_type": "code",
   "execution_count": 164,
   "id": "c8b34997-481a-43cf-9925-42bf7ded1d3e",
   "metadata": {},
   "outputs": [
    {
     "name": "stdout",
     "output_type": "stream",
     "text": [
      "MAE = 60932.493936227555\n",
      "MSE = 6676357754.855207\n",
      "RMSE  = 81708.98209410766\n",
      "R2 Score = 0.7608409549728723\n"
     ]
    }
   ],
   "source": [
    "from sklearn.linear_model import LinearRegression\n",
    "from sklearn.metrics import mean_absolute_error, mean_squared_error\n",
    "\n",
    "linear_regression = LinearRegression()\n",
    "linear_regression.fit(x_train , y_train)\n",
    "y_pred = linear_regression.predict(x_test)\n",
    "\n",
    "print(f'MAE = {metrics.mean_absolute_error(y_test,y_pred)}')\n",
    "print(f'MSE = {metrics.mean_squared_error(y_test,y_pred)}')\n",
    "print(f'RMSE  = {np.sqrt(metrics.mean_squared_error(y_test,y_pred))}')\n",
    "print(f'R2 Score = {linear_regression.score(x_test,y_test)}')"
   ]
  },
  {
   "cell_type": "code",
   "execution_count": 165,
   "id": "b8ba2834-60bf-4e2f-bb4d-86a20d798f3f",
   "metadata": {},
   "outputs": [
    {
     "name": "stdout",
     "output_type": "stream",
     "text": [
      "MAE is - 20239.803638096073\n",
      "MAE is - 927553368.5592774\n",
      "RMSE is - 30455.760843546126\n",
      "R2 Score is - 0.9667733836349602\n"
     ]
    }
   ],
   "source": [
    "from sklearn.tree import DecisionTreeRegressor\n",
    "\n",
    "decision_tree_regressor = DecisionTreeRegressor()\n",
    "decision_tree_regressor.fit(x_train, y_train)\n",
    "y_pred = decision_tree_regressor.predict(x_test)\n",
    "\n",
    "print(f'MAE is - {metrics.mean_absolute_error(y_test, y_pred)}')\n",
    "print(f'MAE is - {metrics.mean_squared_error(y_test, y_pred)}')\n",
    "print(f'RMSE is - {np.sqrt(metrics.mean_squared_error(y_test, y_pred))}')\n",
    "print(f'R2 Score is - {decision_tree_regressor.score(x_test, y_test)}')"
   ]
  },
  {
   "cell_type": "code",
   "execution_count": 166,
   "id": "13f2166c-43f8-4fad-928f-eb0e4a77f6fb",
   "metadata": {},
   "outputs": [
    {
     "name": "stdout",
     "output_type": "stream",
     "text": [
      "MAE is - 32736.76546402796\n",
      "MAE is - 2273493152.6816664\n",
      "RMSE is - 47681.16140239944\n",
      "Accuracy Score is - 0.9185594194865231\n"
     ]
    }
   ],
   "source": [
    "from sklearn.ensemble import RandomForestRegressor\n",
    "\n",
    "rf_regressor = RandomForestRegressor(n_estimators=50, max_depth=10)\n",
    "rf_regressor.fit(x_train, y_train)\n",
    "y_pred = rf_regressor.predict(x_test)\n",
    "\n",
    "print(f'MAE is - {metrics.mean_absolute_error(y_test, y_pred)}')\n",
    "print(f'MAE is - {metrics.mean_squared_error(y_test, y_pred)}')\n",
    "print(f'RMSE is - {np.sqrt(metrics.mean_squared_error(y_test, y_pred))}')\n",
    "print(f'Accuracy Score is - {rf_regressor.score(x_test, y_test)}')"
   ]
  },
  {
   "cell_type": "markdown",
   "id": "c6af2879-7678-4281-a504-706e05180b4f",
   "metadata": {},
   "source": [
    "## saving the decisiontree model"
   ]
  },
  {
   "cell_type": "code",
   "execution_count": 167,
   "id": "2e828947-1db1-493a-a7d9-88cac3a770a4",
   "metadata": {},
   "outputs": [],
   "source": [
    "import pickle"
   ]
  },
  {
   "cell_type": "code",
   "execution_count": 168,
   "id": "038d34a4-5a28-4435-8d87-a2fd1af48e85",
   "metadata": {},
   "outputs": [],
   "source": [
    "with open ('dt.pkl', 'wb') as f:\n",
    "    pickle.dump(decision_tree_regressor , f)"
   ]
  }
 ],
 "metadata": {
  "kernelspec": {
   "display_name": "Python 3 (ipykernel)",
   "language": "python",
   "name": "python3"
  },
  "language_info": {
   "codemirror_mode": {
    "name": "ipython",
    "version": 3
   },
   "file_extension": ".py",
   "mimetype": "text/x-python",
   "name": "python",
   "nbconvert_exporter": "python",
   "pygments_lexer": "ipython3",
   "version": "3.11.4"
  }
 },
 "nbformat": 4,
 "nbformat_minor": 5
}
